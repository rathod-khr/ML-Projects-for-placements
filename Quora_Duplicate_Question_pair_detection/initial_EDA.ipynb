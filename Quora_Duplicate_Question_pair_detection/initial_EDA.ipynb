{
 "cells": [
  {
   "cell_type": "code",
   "execution_count": 4,
   "id": "600ccbe8",
   "metadata": {},
   "outputs": [],
   "source": [
    "import numpy as np\n",
    "import pandas as pd\n",
    "import seaborn as sns\n",
    "import matplotlib.pyplot as plt"
   ]
  },
  {
   "cell_type": "code",
   "execution_count": 5,
   "id": "60425156",
   "metadata": {},
   "outputs": [
    {
     "data": {
      "text/plain": [
       "(404350, 6)"
      ]
     },
     "execution_count": 5,
     "metadata": {},
     "output_type": "execute_result"
    }
   ],
   "source": [
    "df = pd.read_csv(\"questions.csv\")\n",
    "df.shape"
   ]
  },
  {
   "cell_type": "code",
   "execution_count": 6,
   "id": "5a3d86b9",
   "metadata": {},
   "outputs": [
    {
     "data": {
      "text/html": [
       "<div>\n",
       "<style scoped>\n",
       "    .dataframe tbody tr th:only-of-type {\n",
       "        vertical-align: middle;\n",
       "    }\n",
       "\n",
       "    .dataframe tbody tr th {\n",
       "        vertical-align: top;\n",
       "    }\n",
       "\n",
       "    .dataframe thead th {\n",
       "        text-align: right;\n",
       "    }\n",
       "</style>\n",
       "<table border=\"1\" class=\"dataframe\">\n",
       "  <thead>\n",
       "    <tr style=\"text-align: right;\">\n",
       "      <th></th>\n",
       "      <th>id</th>\n",
       "      <th>qid1</th>\n",
       "      <th>qid2</th>\n",
       "      <th>question1</th>\n",
       "      <th>question2</th>\n",
       "      <th>is_duplicate</th>\n",
       "    </tr>\n",
       "  </thead>\n",
       "  <tbody>\n",
       "    <tr>\n",
       "      <th>349415</th>\n",
       "      <td>349416</td>\n",
       "      <td>684565</td>\n",
       "      <td>684566</td>\n",
       "      <td>Why do you hate the military?</td>\n",
       "      <td>I'm underweight &amp; don't put on weight easily. ...</td>\n",
       "      <td>0</td>\n",
       "    </tr>\n",
       "    <tr>\n",
       "      <th>105329</th>\n",
       "      <td>105330</td>\n",
       "      <td>208921</td>\n",
       "      <td>208922</td>\n",
       "      <td>How can I study whole day and concentrate?</td>\n",
       "      <td>How can I concentrate to study whole day and n...</td>\n",
       "      <td>0</td>\n",
       "    </tr>\n",
       "    <tr>\n",
       "      <th>132146</th>\n",
       "      <td>132147</td>\n",
       "      <td>261729</td>\n",
       "      <td>261730</td>\n",
       "      <td>Which one is best for a fresher, Infosys or TC...</td>\n",
       "      <td>Between Infosys and TCS, what should one choos...</td>\n",
       "      <td>1</td>\n",
       "    </tr>\n",
       "    <tr>\n",
       "      <th>319764</th>\n",
       "      <td>319765</td>\n",
       "      <td>627368</td>\n",
       "      <td>627369</td>\n",
       "      <td>Do you have any tactics to fight stage fright?</td>\n",
       "      <td>How do I get rid of a very bad stage fright?</td>\n",
       "      <td>1</td>\n",
       "    </tr>\n",
       "    <tr>\n",
       "      <th>47247</th>\n",
       "      <td>47248</td>\n",
       "      <td>94072</td>\n",
       "      <td>94073</td>\n",
       "      <td>Do you follow your heart or brain?</td>\n",
       "      <td>Is India in my heart or brain?</td>\n",
       "      <td>0</td>\n",
       "    </tr>\n",
       "    <tr>\n",
       "      <th>31603</th>\n",
       "      <td>31604</td>\n",
       "      <td>62997</td>\n",
       "      <td>62998</td>\n",
       "      <td>What is copyscrn.com?</td>\n",
       "      <td>What is VRShared.com?</td>\n",
       "      <td>0</td>\n",
       "    </tr>\n",
       "    <tr>\n",
       "      <th>3074</th>\n",
       "      <td>3074</td>\n",
       "      <td>6148</td>\n",
       "      <td>6149</td>\n",
       "      <td>Is the use of the phrase 'pass out' to mean 'g...</td>\n",
       "      <td>Which phrase \"You and me\" or \"You and I\" is us...</td>\n",
       "      <td>0</td>\n",
       "    </tr>\n",
       "    <tr>\n",
       "      <th>277442</th>\n",
       "      <td>277443</td>\n",
       "      <td>545492</td>\n",
       "      <td>545493</td>\n",
       "      <td>What can be the best solution for this problem?</td>\n",
       "      <td>Can a manuscript be sent for publication witho...</td>\n",
       "      <td>0</td>\n",
       "    </tr>\n",
       "    <tr>\n",
       "      <th>150068</th>\n",
       "      <td>150069</td>\n",
       "      <td>296882</td>\n",
       "      <td>296883</td>\n",
       "      <td>How could I check backlinks manually without a...</td>\n",
       "      <td>Backlink analyzing software/site?</td>\n",
       "      <td>0</td>\n",
       "    </tr>\n",
       "    <tr>\n",
       "      <th>82440</th>\n",
       "      <td>82441</td>\n",
       "      <td>163746</td>\n",
       "      <td>163747</td>\n",
       "      <td>What are some good online quizzing sites?</td>\n",
       "      <td>What are the best online quizz tools for busin...</td>\n",
       "      <td>0</td>\n",
       "    </tr>\n",
       "  </tbody>\n",
       "</table>\n",
       "</div>"
      ],
      "text/plain": [
       "            id    qid1    qid2  \\\n",
       "349415  349416  684565  684566   \n",
       "105329  105330  208921  208922   \n",
       "132146  132147  261729  261730   \n",
       "319764  319765  627368  627369   \n",
       "47247    47248   94072   94073   \n",
       "31603    31604   62997   62998   \n",
       "3074      3074    6148    6149   \n",
       "277442  277443  545492  545493   \n",
       "150068  150069  296882  296883   \n",
       "82440    82441  163746  163747   \n",
       "\n",
       "                                                question1  \\\n",
       "349415                      Why do you hate the military?   \n",
       "105329         How can I study whole day and concentrate?   \n",
       "132146  Which one is best for a fresher, Infosys or TC...   \n",
       "319764     Do you have any tactics to fight stage fright?   \n",
       "47247                  Do you follow your heart or brain?   \n",
       "31603                               What is copyscrn.com?   \n",
       "3074    Is the use of the phrase 'pass out' to mean 'g...   \n",
       "277442    What can be the best solution for this problem?   \n",
       "150068  How could I check backlinks manually without a...   \n",
       "82440           What are some good online quizzing sites?   \n",
       "\n",
       "                                                question2  is_duplicate  \n",
       "349415  I'm underweight & don't put on weight easily. ...             0  \n",
       "105329  How can I concentrate to study whole day and n...             0  \n",
       "132146  Between Infosys and TCS, what should one choos...             1  \n",
       "319764       How do I get rid of a very bad stage fright?             1  \n",
       "47247                      Is India in my heart or brain?             0  \n",
       "31603                               What is VRShared.com?             0  \n",
       "3074    Which phrase \"You and me\" or \"You and I\" is us...             0  \n",
       "277442  Can a manuscript be sent for publication witho...             0  \n",
       "150068                  Backlink analyzing software/site?             0  \n",
       "82440   What are the best online quizz tools for busin...             0  "
      ]
     },
     "execution_count": 6,
     "metadata": {},
     "output_type": "execute_result"
    }
   ],
   "source": [
    "df.sample(10)"
   ]
  },
  {
   "cell_type": "code",
   "execution_count": 7,
   "id": "37b00141",
   "metadata": {},
   "outputs": [
    {
     "name": "stdout",
     "output_type": "stream",
     "text": [
      "<class 'pandas.core.frame.DataFrame'>\n",
      "RangeIndex: 404350 entries, 0 to 404349\n",
      "Data columns (total 6 columns):\n",
      " #   Column        Non-Null Count   Dtype \n",
      "---  ------        --------------   ----- \n",
      " 0   id            404350 non-null  int64 \n",
      " 1   qid1          404350 non-null  int64 \n",
      " 2   qid2          404350 non-null  int64 \n",
      " 3   question1     404349 non-null  object\n",
      " 4   question2     404348 non-null  object\n",
      " 5   is_duplicate  404350 non-null  int64 \n",
      "dtypes: int64(4), object(2)\n",
      "memory usage: 18.5+ MB\n"
     ]
    }
   ],
   "source": [
    "df.info()"
   ]
  },
  {
   "cell_type": "code",
   "execution_count": 8,
   "id": "c5b82789",
   "metadata": {},
   "outputs": [
    {
     "data": {
      "text/plain": [
       "id              0\n",
       "qid1            0\n",
       "qid2            0\n",
       "question1       1\n",
       "question2       2\n",
       "is_duplicate    0\n",
       "dtype: int64"
      ]
     },
     "execution_count": 8,
     "metadata": {},
     "output_type": "execute_result"
    }
   ],
   "source": [
    "# missing values\n",
    "df.isnull().sum()"
   ]
  },
  {
   "cell_type": "code",
   "execution_count": 9,
   "id": "e704abaf",
   "metadata": {},
   "outputs": [
    {
     "data": {
      "text/plain": [
       "0"
      ]
     },
     "execution_count": 9,
     "metadata": {},
     "output_type": "execute_result"
    }
   ],
   "source": [
    "# duplicate rows\n",
    "df.duplicated().sum()"
   ]
  },
  {
   "cell_type": "code",
   "execution_count": 10,
   "id": "3f9bd6af",
   "metadata": {},
   "outputs": [
    {
     "name": "stdout",
     "output_type": "stream",
     "text": [
      "is_duplicate\n",
      "0    255044\n",
      "1    149306\n",
      "Name: count, dtype: int64\n",
      "is_duplicate\n",
      "0    63.075059\n",
      "1    36.924941\n",
      "Name: count, dtype: float64\n"
     ]
    },
    {
     "data": {
      "text/plain": [
       "<Axes: xlabel='is_duplicate'>"
      ]
     },
     "execution_count": 10,
     "metadata": {},
     "output_type": "execute_result"
    },
    {
     "data": {
      "image/png": "[encoded data removed]",
      "text/plain": [
       "<Figure size 640x480 with 1 Axes>"
      ]
     },
     "metadata": {},
     "output_type": "display_data"
    }
   ],
   "source": [
    "# Distribution of duplicate and non-duplicate questions\n",
    "\n",
    "print(df['is_duplicate'].value_counts())\n",
    "print((df['is_duplicate'].value_counts()/df['is_duplicate'].count())*100)\n",
    "df['is_duplicate'].value_counts().plot(kind='bar')"
   ]
  },
  {
   "cell_type": "code",
   "execution_count": 11,
   "id": "788d2d08",
   "metadata": {},
   "outputs": [
    {
     "name": "stdout",
     "output_type": "stream",
     "text": [
      "Number of unique questions 789799\n",
      "Number of questions getting repeated 13698\n"
     ]
    }
   ],
   "source": [
    "# Repeated questions\n",
    "\n",
    "qid = pd.Series(df['qid1'].tolist() + df['qid2'].tolist())\n",
    "print('Number of unique questions',np.unique(qid).shape[0])\n",
    "x = qid.value_counts()>1\n",
    "print('Number of questions getting repeated',x[x].shape[0])"
   ]
  },
  {
   "cell_type": "code",
   "execution_count": 12,
   "id": "2fa5bb83",
   "metadata": {},
   "outputs": [
    {
     "data": {
      "image/png": "[encoded data removed]",
      "text/plain": [
       "<Figure size 640x480 with 1 Axes>"
      ]
     },
     "metadata": {},
     "output_type": "display_data"
    }
   ],
   "source": [
    "# Repeated questions histogram\n",
    "\n",
    "plt.hist(qid.value_counts().values,bins=160)\n",
    "plt.yscale('log')\n",
    "plt.show()"
   ]
  },
  {
   "cell_type": "code",
   "execution_count": null,
   "id": "f9573e2f",
   "metadata": {},
   "outputs": [],
   "source": []
  }
 ],
 "metadata": {
  "kernelspec": {
   "display_name": "Python 3 (ipykernel)",
   "language": "python",
   "name": "python3"
  },
  "language_info": {
   "codemirror_mode": {
    "name": "ipython",
    "version": 3
   },
   "file_extension": ".py",
   "mimetype": "text/x-python",
   "name": "python",
   "nbconvert_exporter": "python",
   "pygments_lexer": "ipython3",
   "version": "3.11.4"
  }
 },
 "nbformat": 4,
 "nbformat_minor": 5
}
